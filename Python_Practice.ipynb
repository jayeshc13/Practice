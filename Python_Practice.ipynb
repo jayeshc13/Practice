{
 "cells": [
  {
   "cell_type": "code",
   "execution_count": 1,
   "id": "2a733992-bc68-44ba-864c-b4e394835f4f",
   "metadata": {},
   "outputs": [
    {
     "name": "stdout",
     "output_type": "stream",
     "text": [
      "Python version\n",
      "3.11.7 | packaged by Anaconda, Inc. | (main, Dec 15 2023, 18:05:47) [MSC v.1916 64 bit (AMD64)]\n",
      "Version info.\n",
      "sys.version_info(major=3, minor=11, micro=7, releaselevel='final', serial=0)\n"
     ]
    }
   ],
   "source": [
    "# 1)Write a Python program to get the Python version you are using\n",
    "import sys\n",
    "print(\"Python version\")\n",
    "print (sys.version)\n",
    "print(\"Version info.\")\n",
    "print (sys.version_info)"
   ]
  },
  {
   "cell_type": "code",
   "execution_count": 2,
   "id": "a9b58278-8656-4862-96e3-bd8c0eb69f65",
   "metadata": {},
   "outputs": [
    {
     "name": "stdout",
     "output_type": "stream",
     "text": [
      "Current datetime is:  2024-10-15 11:40:14.915225\n"
     ]
    }
   ],
   "source": [
    "# 2)Write a Python program to display the current date and time\n",
    "import datetime\n",
    "now = datetime.datetime.now()\n",
    "print(\"Current datetime is: \",now)"
   ]
  },
  {
   "cell_type": "code",
   "execution_count": 4,
   "id": "518f578a-431e-4130-ba60-1bf8dbcb6188",
   "metadata": {},
   "outputs": [],
   "source": [
    "# 3) Write a Python program which accepts the radius of a circle from the user and compute the area.\n",
    "import numpy as np\n",
    "def areaofcircle():\n",
    "    radius=float(input(\"Enter the radius of circle: \"))\n",
    "    area=np.pi *radius*radius\n",
    "    return area"
   ]
  },
  {
   "cell_type": "code",
   "execution_count": 6,
   "id": "3a5d3047-987b-49cb-aaf6-97f20cd3bf31",
   "metadata": {},
   "outputs": [
    {
     "name": "stdin",
     "output_type": "stream",
     "text": [
      "Enter the radius of circle:  2.5\n"
     ]
    },
    {
     "data": {
      "text/plain": [
       "19.634954084936208"
      ]
     },
     "execution_count": 6,
     "metadata": {},
     "output_type": "execute_result"
    }
   ],
   "source": [
    "areaofcircle()"
   ]
  },
  {
   "cell_type": "code",
   "execution_count": 7,
   "id": "40c20628-ac5c-46c6-9bf2-dff56088b376",
   "metadata": {},
   "outputs": [],
   "source": [
    "# Write a Python program which accepts the user's first and last name and print them in reverse order with a space between them\n",
    "def reversethestring():\n",
    "    first_name=input('Enter your first name')\n",
    "    last_name=input('Enter your last name')\n",
    "    return last_name[::-1],first_name[::-1]"
   ]
  },
  {
   "cell_type": "code",
   "execution_count": 8,
   "id": "83aacb60-c53e-4143-bdc4-6298cdebe3f2",
   "metadata": {},
   "outputs": [
    {
     "name": "stdin",
     "output_type": "stream",
     "text": [
      "Enter your first name Jayesh\n",
      "Enter your last name choudhari \n"
     ]
    },
    {
     "data": {
      "text/plain": [
       "(' irahduohc', 'hseyaJ')"
      ]
     },
     "execution_count": 8,
     "metadata": {},
     "output_type": "execute_result"
    }
   ],
   "source": [
    "reversethestring()"
   ]
  },
  {
   "cell_type": "code",
   "execution_count": 1,
   "id": "c28cea68-8724-4cff-899d-f73b6fe604b1",
   "metadata": {},
   "outputs": [
    {
     "name": "stdin",
     "output_type": "stream",
     "text": [
      "Input your First Name :  Jayesh\n",
      "Input your Last Name :  Choudhari \n"
     ]
    },
    {
     "name": "stdout",
     "output_type": "stream",
     "text": [
      "Hello  Choudhari  Jayesh\n"
     ]
    }
   ],
   "source": [
    "## Another way \n",
    "f_name = input(\"Input your First Name : \")\n",
    "l_name = input(\"Input your Last Name : \")\n",
    "print (\"Hello  \" + l_name + \" \" + f_name)"
   ]
  },
  {
   "cell_type": "code",
   "execution_count": 2,
   "id": "2cee82aa-625d-4edd-8f55-9c373889ba07",
   "metadata": {},
   "outputs": [
    {
     "name": "stdin",
     "output_type": "stream",
     "text": [
      "Input some comma seprated numbers :  1,2,3,4\n"
     ]
    },
    {
     "name": "stdout",
     "output_type": "stream",
     "text": [
      "['1', '2', '3', '4']\n"
     ]
    }
   ],
   "source": [
    "# Write a Python program which accepts a sequence of comma-separated numbers from user and generate a list with those numbers\n",
    "values = input(\"Input some comma seprated numbers : \")\n",
    "list1 = values.split(\",\")\n",
    "print(list1)\n",
    "\n"
   ]
  },
  {
   "cell_type": "code",
   "execution_count": 3,
   "id": "b685d766-670c-48d8-a839-93bd5d051edd",
   "metadata": {},
   "outputs": [
    {
     "name": "stdin",
     "output_type": "stream",
     "text": [
      "Enter the name of file file.txt\n"
     ]
    },
    {
     "name": "stdout",
     "output_type": "stream",
     "text": [
      "txt\n"
     ]
    }
   ],
   "source": [
    "# Write a Python program to accept a filename from the user and print the extension of that\n",
    "file_name=input('Enter the name of file')\n",
    "a=file_name.split('.')\n",
    "print(a[1])\n"
   ]
  },
  {
   "cell_type": "code",
   "execution_count": 4,
   "id": "a6877a89-206d-4cca-aee0-a8c674a1897b",
   "metadata": {},
   "outputs": [
    {
     "name": "stdout",
     "output_type": "stream",
     "text": [
      "yellow\n",
      "orange\n"
     ]
    }
   ],
   "source": [
    "# Write a Python program to display the first and last colors from the following list color_list = [\"yellow\",\"Green\",\"grey\" ,\"orange\"]\n",
    "color_list = [\"yellow\",\"Green\",\"grey\" ,\"orange\"]\n",
    "print(color_list[0])\n",
    "print(color_list[-1])"
   ]
  },
  {
   "cell_type": "code",
   "execution_count": null,
   "id": "690c011e-e232-4520-89e0-4c3dfe7021a8",
   "metadata": {},
   "outputs": [],
   "source": []
  }
 ],
 "metadata": {
  "kernelspec": {
   "display_name": "Python 3 (ipykernel)",
   "language": "python",
   "name": "python3"
  },
  "language_info": {
   "codemirror_mode": {
    "name": "ipython",
    "version": 3
   },
   "file_extension": ".py",
   "mimetype": "text/x-python",
   "name": "python",
   "nbconvert_exporter": "python",
   "pygments_lexer": "ipython3",
   "version": "3.11.7"
  }
 },
 "nbformat": 4,
 "nbformat_minor": 5
}
