{
 "cells": [
  {
   "cell_type": "code",
   "execution_count": 2,
   "id": "0e608a48-27b7-4ff4-aae2-4f9ba90297b3",
   "metadata": {},
   "outputs": [
    {
     "name": "stdin",
     "output_type": "stream",
     "text": [
      "Enter an integer 2\n"
     ]
    },
    {
     "name": "stdout",
     "output_type": "stream",
     "text": [
      "246\n"
     ]
    }
   ],
   "source": [
    "# 9) Write a Python program that accepts an integer (n) and computes the value of n+nn+nnn\n",
    "a= int(input(\"Enter an integer\"))\n",
    "n1 = int( \"%s\" % a)\n",
    "n2 = int(\"%s%s\" % (a,a))\n",
    "n3= int(\"%s%s%s\" % (a,a,a))\n",
    "print(n1+n2+n3)"
   ]
  },
  {
   "cell_type": "code",
   "execution_count": 5,
   "id": "a4abe070-a7ff-440d-9fe6-2d822be2564e",
   "metadata": {},
   "outputs": [
    {
     "name": "stdout",
     "output_type": "stream",
     "text": [
      "The data type of a is  <class 'bool'>\n",
      "The data type of a is  <class 'float'>\n",
      "The data type of a is  <class 'int'>\n",
      "The data type of a is  <class 'str'>\n"
     ]
    }
   ],
   "source": [
    "# 10.Write a program to demonstrate different number data types in Python\n",
    "a= True\n",
    "b= 40.43\n",
    "c= 60\n",
    "d= \"Git Hub\"\n",
    "print(\"The data type of a is \", type(a))\n",
    "print(\"The data type of a is \", type(b))\n",
    "print(\"The data type of a is \", type(c))\n",
    "print(\"The data type of a is \", type(d))"
   ]
  },
  {
   "cell_type": "code",
   "execution_count": 17,
   "id": "78882e28-7a54-42d3-a55d-cd77aa5ce08a",
   "metadata": {},
   "outputs": [
    {
     "name": "stdout",
     "output_type": "stream",
     "text": [
      "6\n"
     ]
    }
   ],
   "source": [
    "# 11) Python Program to find sum of array\n",
    "import numpy as np\n",
    "a=[1,2,3]\n",
    "add=0 \n",
    "for i in a:\n",
    "    add=add+i\n",
    "print(add)"
   ]
  },
  {
   "cell_type": "code",
   "execution_count": 21,
   "id": "8a4ec2a9-bcc0-4191-ab7d-29821f54b93c",
   "metadata": {},
   "outputs": [
    {
     "name": "stdin",
     "output_type": "stream",
     "text": [
      "Enter the first string Git\n",
      "Enter second string Hub\n"
     ]
    },
    {
     "name": "stdout",
     "output_type": "stream",
     "text": [
      "The first string is  Git\n",
      "The second string is  Hub\n",
      "The concated string is  GitHub\n",
      "The substring of a is   it\n",
      "The substring of b is  b\n"
     ]
    }
   ],
   "source": [
    "# 12) Write a program to create, concatenate and print a string and accessing sub-string from a given string\n",
    "a=(input(\"Enter the first string\"))\n",
    "b=(input(\"Enter second string\"))\n",
    "print(\"The first string is \",a)\n",
    "print(\"The second string is \",b)\n",
    "print(\"The concated string is \",a+b)\n",
    "print(\"The substring of a is  \",a[1:3])\n",
    "print(\"The substring of b is \",b[2:3])"
   ]
  },
  {
   "cell_type": "code",
   "execution_count": 25,
   "id": "e205b286-164b-4ff3-9b69-5695d2fe1144",
   "metadata": {},
   "outputs": [
    {
     "name": "stdin",
     "output_type": "stream",
     "text": [
      "Enter the 1st number 7852.5\n",
      "Enter the 2nd number 4756.8\n",
      "Enter the 3rd number 74123.89\n"
     ]
    },
    {
     "name": "stdout",
     "output_type": "stream",
     "text": [
      "The higest number is  74123.89\n"
     ]
    }
   ],
   "source": [
    "# 13) Write a python program to find largest of three numbers\n",
    "a=float(input(\"Enter the 1st number\"))\n",
    "b=float(input(\"Enter the 2nd number\"))\n",
    "c=float(input(\"Enter the 3rd number\"))\n",
    "if (a>=b) and (a>=c):\n",
    "    print('The highest number is',a)\n",
    "elif (b>=a) and (b>=c):\n",
    "    print('The highest number is ',b)\n",
    "else:\n",
    "    print('The higest number is ',c)"
   ]
  },
  {
   "cell_type": "code",
   "execution_count": 26,
   "id": "e06877c1-3d47-4760-956b-3630277dfe29",
   "metadata": {},
   "outputs": [
    {
     "name": "stdin",
     "output_type": "stream",
     "text": [
      "Enter temprature 32\n",
      "Enter unit c\n"
     ]
    },
    {
     "name": "stdout",
     "output_type": "stream",
     "text": [
      "Temprature in ferenhite is 89.6\n"
     ]
    }
   ],
   "source": [
    "# 14) .Write a Python program to convert temperatures to and from Celsius, Fahrenheit. [ Formula: c = (f-32)(5/9)]\n",
    "temp=float(input('Enter temprature'))\n",
    "unit=input('Enter unit')\n",
    "\n",
    "if unit=='C' or unit=='c':\n",
    "    newtemp=9/5*temp+32\n",
    "    print('Temprature in ferenhite is',newtemp)\n",
    "elif unit=='F' or unit=='f':\n",
    "    newtemp=5/9*(temp-32)\n",
    "    print('Temparture is celsius is',newtemp)\n",
    "else:\n",
    "    print('unknown unit passed')\n"
   ]
  },
  {
   "cell_type": "code",
   "execution_count": 27,
   "id": "806ed9c5-6ea4-4f55-b884-3e218e1ed74c",
   "metadata": {},
   "outputs": [
    {
     "name": "stdout",
     "output_type": "stream",
     "text": [
      "\n",
      "* \n",
      "* * \n",
      "* * * \n",
      "* * * * \n",
      "* * * * * \n",
      "* * * * * * \n",
      "* * * * * * * \n",
      "* * * * * * \n",
      "* * * * * \n",
      "* * * * \n",
      "* * * \n",
      "* * \n",
      "* \n"
     ]
    }
   ],
   "source": [
    "# 15) Write a Python program to construct the following pattern, using a nested for loop\n",
    "\n",
    "max = 6\n",
    "for i in range(0,max+1):\n",
    "    print(\"* \"*i)\n",
    "for i in range(max+1,0,-1):\n",
    "    print(\"* \"*i)"
   ]
  },
  {
   "cell_type": "code",
   "execution_count": null,
   "id": "747244b7-88a2-4dd2-a175-f83f8002def1",
   "metadata": {},
   "outputs": [],
   "source": []
  }
 ],
 "metadata": {
  "kernelspec": {
   "display_name": "Python 3 (ipykernel)",
   "language": "python",
   "name": "python3"
  },
  "language_info": {
   "codemirror_mode": {
    "name": "ipython",
    "version": 3
   },
   "file_extension": ".py",
   "mimetype": "text/x-python",
   "name": "python",
   "nbconvert_exporter": "python",
   "pygments_lexer": "ipython3",
   "version": "3.11.7"
  }
 },
 "nbformat": 4,
 "nbformat_minor": 5
}
