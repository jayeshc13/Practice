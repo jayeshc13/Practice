{
 "cells": [
  {
   "cell_type": "code",
   "execution_count": 28,
   "id": "a21a2367-186b-4f5a-af51-8ce6f7475418",
   "metadata": {},
   "outputs": [
    {
     "name": "stdin",
     "output_type": "stream",
     "text": [
      "Enter your username git_code\n"
     ]
    },
    {
     "name": "stdout",
     "output_type": "stream",
     "text": [
      "Correct Username\n"
     ]
    },
    {
     "name": "stdin",
     "output_type": "stream",
     "text": [
      "Enter your Password git8\n"
     ]
    },
    {
     "name": "stdout",
     "output_type": "stream",
     "text": [
      "Incorrect\n",
      "Forgot password (Yes/No)?\n"
     ]
    },
    {
     "name": "stdin",
     "output_type": "stream",
     "text": [
      " Yes\n"
     ]
    },
    {
     "name": "stdout",
     "output_type": "stream",
     "text": [
      "Enter new password\n"
     ]
    },
    {
     "name": "stdin",
     "output_type": "stream",
     "text": [
      " hj\n"
     ]
    },
    {
     "name": "stdout",
     "output_type": "stream",
     "text": [
      "Your new password hj is set\n"
     ]
    }
   ],
   "source": [
    "username=\"git_code\"\n",
    "password=\"git@123\"\n",
    "a=input(\"Enter your username\")\n",
    "if a==username:\n",
    "    print(\"Correct Username\")\n",
    "    \n",
    "else:\n",
    "    print(\"Incorrect Username\")\n",
    "    print(\"Forgot username\")\n",
    "    print(\"Do you want to reset username? Yes/No\")\n",
    "    e=input()\n",
    "    if e==\"Yes\":\n",
    "        print(\"Enter new Username\")\n",
    "        f=input()\n",
    "        print(\"Your username\",f,\"is set\")\n",
    "    else:\n",
    "        print(\"Try again\")\n",
    "\n",
    "    \n",
    "b=input(\"Enter your Password\")\n",
    "if b==password:\n",
    "    print(\"Successful\")\n",
    "else:\n",
    "    print(\"Incorrect\")\n",
    "    print(\"Forgot password (Yes/No)?\")\n",
    "    c=input()\n",
    "    if c==\"Yes\":\n",
    "        print(\"Enter new password\")\n",
    "        d=input()\n",
    "        print(\"Your new password\",d,\"is set\")\n",
    "\n",
    "    else:\n",
    "        print(\"Try again\")\n",
    "    "
   ]
  },
  {
   "cell_type": "code",
   "execution_count": 34,
   "id": "ab7e3979-8dfe-4ff1-9514-ab4f7dca83b4",
   "metadata": {},
   "outputs": [
    {
     "name": "stdout",
     "output_type": "stream",
     "text": [
      "Current Value: 1\n",
      "Current Value: 2\n",
      "Current Value: 3\n",
      "Current Value: 4\n",
      "Current Value: 5\n",
      "Current Value: 6\n",
      "Current Value: 7\n",
      "Current Value: 8\n",
      "Current Value: 9\n",
      "Current Value: 10\n"
     ]
    }
   ],
   "source": [
    "for i in range(1,11):\n",
    "    print(\"Current Value:\",i)"
   ]
  },
  {
   "cell_type": "code",
   "execution_count": 36,
   "id": "f0b2fa9b-ad93-47e6-890a-b770b28f2537",
   "metadata": {},
   "outputs": [
    {
     "name": "stdout",
     "output_type": "stream",
     "text": [
      "Current Value: 1\n",
      "Current Value: 2\n",
      "Current Value: 3\n",
      "Current Value: 4\n",
      "Current Value: 5\n",
      "Current Value: 6\n",
      "Current Value: 7\n",
      "Current Value: 8\n",
      "Current Value: 9\n",
      "Current Value: 10\n"
     ]
    }
   ],
   "source": [
    "a=1\n",
    "while a<11:\n",
    "    print(\"Current Value:\",a)\n",
    "    a=a+1"
   ]
  },
  {
   "cell_type": "code",
   "execution_count": 44,
   "id": "5ad9b7e3-5fbb-4bd3-8bba-195a17455892",
   "metadata": {},
   "outputs": [
    {
     "name": "stdout",
     "output_type": "stream",
     "text": [
      "111111111\n",
      "222222222\n",
      "333333333\n",
      "444444444\n",
      "555555555\n",
      "666666666\n",
      "777777777\n",
      "888888888\n",
      "999999999\n"
     ]
    }
   ],
   "source": [
    "a=111111111\n",
    "b=1\n",
    "while b<2:\n",
    "    print(a)\n",
    "    print(a*2)\n",
    "    print(a*3)\n",
    "    print(a*4)\n",
    "    print(a*5)\n",
    "    print(a*6)\n",
    "    print(a*7)\n",
    "    print(a*8)\n",
    "    print(a*9)\n",
    "    b=b+1"
   ]
  },
  {
   "cell_type": "code",
   "execution_count": 47,
   "id": "c6f1c0e1-5a02-47f2-a3cf-02529577f326",
   "metadata": {},
   "outputs": [
    {
     "name": "stdout",
     "output_type": "stream",
     "text": [
      " 111111111\n",
      " 222222222\n",
      " 333333333\n",
      " 444444444\n",
      " 555555555\n",
      " 666666666\n",
      " 777777777\n",
      " 888888888\n",
      " 999999999\n"
     ]
    }
   ],
   "source": [
    "a=' '\n",
    "for i in range(1,10):\n",
    "    for j in range(0,9):\n",
    "        a+=str(i)\n",
    "\n",
    "    print(a)\n",
    "    a=' '"
   ]
  },
  {
   "cell_type": "code",
   "execution_count": null,
   "id": "4165a33c-c5da-4088-8e0a-44c0f6961c13",
   "metadata": {},
   "outputs": [],
   "source": [
    "countries=['Thailand','Vietnam','Malaysia','UAE']\n",
    "for i in countries:\n",
    "    print()"
   ]
  }
 ],
 "metadata": {
  "kernelspec": {
   "display_name": "Python 3 (ipykernel)",
   "language": "python",
   "name": "python3"
  },
  "language_info": {
   "codemirror_mode": {
    "name": "ipython",
    "version": 3
   },
   "file_extension": ".py",
   "mimetype": "text/x-python",
   "name": "python",
   "nbconvert_exporter": "python",
   "pygments_lexer": "ipython3",
   "version": "3.11.7"
  }
 },
 "nbformat": 4,
 "nbformat_minor": 5
}
